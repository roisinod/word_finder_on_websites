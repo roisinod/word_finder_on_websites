{
 "cells": [
  {
   "cell_type": "code",
   "execution_count": null,
   "metadata": {},
   "outputs": [],
   "source": [
    "import urllib #imports library for working with data from URLs\n",
    "import requests #imports module of urllib for opening and reading URLs\n",
    "import pandas as pd #imports pandas library under the name pd. This will be used later for creating aesthetically pleasing dataframe\n",
    "import re\n",
    "websitename = str(input('Type in your url...')) #asks user to input URL and stores URL in variable websitename\n",
    "website = requests.get(websitename).text #creates a variable called 'website'. This contains the URL for the website the user has entered, gathers the data of chosen website and reads it as a .text file.\n",
    "wordtofind = str(input('Type in what word you would like to find...')) #asks the user what word they would like to find and stores the request in variable wordtofind\n",
    "findonwebsite = re.findall(wordtofind, website) #creates another variable. It finds all occurances on of the word 'ECCO' on the web page. It is case sensitive.\n",
    "print('------')\n",
    "print('This words occurs', len(findonwebsite), 'times')#prints the number of times this word occurs on the page\n",
    "print('------')\n",
    "df = pd.DataFrame() #creates a variable that hosts a pandas dataframe.\n",
    "df['List'] = findonwebsite #using the data gathered from the variable 'findonwebsite' it creates a list/dataframe. It is given the simple title list\n",
    "df #prints List"
   ]
  },
  {
   "cell_type": "code",
   "execution_count": null,
   "metadata": {},
   "outputs": [],
   "source": []
  }
 ],
 "metadata": {
  "kernelspec": {
   "display_name": "Python 3",
   "language": "python",
   "name": "python3"
  },
  "language_info": {
   "codemirror_mode": {
    "name": "ipython",
    "version": 3
   },
   "file_extension": ".py",
   "mimetype": "text/x-python",
   "name": "python",
   "nbconvert_exporter": "python",
   "pygments_lexer": "ipython3",
   "version": "3.7.3"
  }
 },
 "nbformat": 4,
 "nbformat_minor": 2
}
